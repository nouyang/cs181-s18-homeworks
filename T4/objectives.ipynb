{
 "cells": [
  {
   "cell_type": "code",
   "execution_count": 1,
   "metadata": {},
   "outputs": [
    {
     "name": "stdout",
     "output_type": "stream",
     "text": [
      "imgs\n",
      " [[0, 0, 0, 0, 0, 0, 0, 0, 0], [1, 1, 1, 1, 1, 1, 1, 1, 1], [2, 2, 2, 2, 2, 2, 2, 2, 2], [3, 3, 3, 3, 3, 3, 3, 3, 3], [4, 4, 4, 4, 4, 4, 4, 4, 4]]\n",
      "assigns:  [1 0 1 1 0]\n",
      "centers\n",
      " [[1 1 1 1 1 1 1 1 1]\n",
      " [0 0 0 0 0 0 0 0 0]]\n",
      "k= 0 cluster\n",
      " [[1 1 1 1 1 1 1 1 1]\n",
      " [4 4 4 4 4 4 4 4 4]]\n",
      "k= 1 cluster\n",
      " [[0 0 0 0 0 0 0 0 0]\n",
      " [2 2 2 2 2 2 2 2 2]\n",
      " [3 3 3 3 3 3 3 3 3]]\n",
      "clsters\n",
      " [[2.5        2.5        2.5        2.5        2.5        2.5\n",
      "  2.5        2.5        2.5       ]\n",
      " [1.66666667 1.66666667 1.66666667 1.66666667 1.66666667 1.66666667\n",
      "  1.66666667 1.66666667 1.66666667]]\n"
     ]
    }
   ],
   "source": [
    "import numpy as np\n",
    "import matplotlib.pyplot as plt\n",
    "np.random.seed(314159)\n",
    "num_imgs = 5 \n",
    "dim = 3\n",
    "imgs  = np.ceil( np.random.rand(num_imgs, dim**2) * 10) \n",
    "imgs = [ [num]*9 for num in range(5)]\n",
    "print('imgs\\n', imgs)\n",
    "\n",
    "assigns = np.array([1,0,1,1,0])\n",
    "print('assigns: ', assigns)\n",
    "\n",
    "#centers = np.array(([1,2,3,4,5,6,7,8,9], [10,11,12,13,14,15,16,17,18]))\n",
    "centers = np.array(([1,1,1,1,1,1,1,1,1], [0,0,0,0,0,0,0,0,0]))\n",
    "print('centers\\n',centers)\n",
    "\n",
    "#print(aCluster)\n",
    "\n",
    "clusters = []\n",
    "for k in range(2):\n",
    "    #aCluster = np.array(np.zeros(dim**2))\n",
    "    #print('~~~~~', k,'~~~~~')\n",
    "    #xIndices = np.where(assigns==k)\n",
    "    #print('xindices', xIndices)\n",
    "    #aCluster = np.stack([imgs[xidx] for xidx in xIndices\n",
    "    #print('aCluster, ', aCluster)\n",
    "    #clusters.vstack(clusters,aCluster)\n",
    "    cluster = np.array([imgs[i] for i in range(len(imgs)) if assigns[i] == k])\n",
    "    print('k=', k, 'cluster\\n', cluster)\n",
    "    clusters.append(np.mean(cluster, axis=0))\n",
    "    \n",
    "print('clsters\\n', np.array(clusters))\n",
    "    \n",
    "\n"
   ]
  },
  {
   "cell_type": "code",
   "execution_count": 3,
   "metadata": {
    "scrolled": true
   },
   "outputs": [
    {
     "data": {
      "text/plain": [
       "array([[[0, 0, 0],\n",
       "        [0, 0, 0],\n",
       "        [0, 0, 0]],\n",
       "\n",
       "       [[1, 1, 1],\n",
       "        [1, 1, 1],\n",
       "        [1, 1, 1]],\n",
       "\n",
       "       [[2, 2, 2],\n",
       "        [2, 2, 2],\n",
       "        [2, 2, 2]],\n",
       "\n",
       "       [[3, 3, 3],\n",
       "        [3, 3, 3],\n",
       "        [3, 3, 3]],\n",
       "\n",
       "       [[4, 4, 4],\n",
       "        [4, 4, 4],\n",
       "        [4, 4, 4]]])"
      ]
     },
     "execution_count": 3,
     "metadata": {},
     "output_type": "execute_result"
    }
   ],
   "source": [
    "a = np.array([1,3,1,2,4])\n",
    "np.where(a==1)\n",
    "np.array([[num]*9 for num in range(5)]).reshape(5,3,3)"
   ]
  },
  {
   "cell_type": "code",
   "execution_count": 13,
   "metadata": {},
   "outputs": [
    {
     "data": {
      "text/plain": [
       "Text(0,0.5,'Objective (l2 norm)')"
      ]
     },
     "execution_count": 13,
     "metadata": {},
     "output_type": "execute_result"
    },
    {
     "data": {
      "image/png": "[encoded data removed]",
      "text/plain": [
       "<Figure size 432x288 with 1 Axes>"
      ]
     },
     "metadata": {},
     "output_type": "display_data"
    }
   ],
   "source": [
    "const = 6000*28**2\n",
    "\n",
    "objs = np.array([2.970801283825729,\n",
    "2.1593113092850316,\n",
    "2.053740173112835,\n",
    "2.028430170271818,\n",
    "2.020434618936546,\n",
    "2.014945309442909,\n",
    "2.009952545073193,\n",
    "2.0058719436530668,\n",
    "2.0020712697939245,\n",
    "1.9991800240967197,\n",
    "1.9956847391084258,\n",
    "1.9925334013885792,\n",
    "1.9902212840037334,\n",
    "1.9887275711185066,\n",
    "1.9879460378803453,\n",
    "1.9874940357430189,\n",
    "1.9872573609899558,\n",
    "1.9871233588398067,\n",
    "1.9869498237054917,\n",
    "1.9868501233662605,\n",
    "1.9868079718580767,\n",
    "1.986795990298887,\n",
    "1.9867798515068982,\n",
    "1.986773534909377,\n",
    "1.986773534909377])\n",
    "\n",
    "xs = np.arange(objs.shape[0])\n",
    "plt.plot(xs, objs*const, marker='x')\n",
    "plt.ylim(ymin=0)\n",
    "plt.title('MNIST Kmeans Objective, K=10, converged at iter=24\\n')\n",
    "plt.xlabel('Iterations')\n",
    "plt.ylabel('Objective (l2 norm)')"
   ]
  },
  {
   "cell_type": "code",
   "execution_count": 4,
   "metadata": {},
   "outputs": [],
   "source": [
    "plt.show()"
   ]
  }
 ],
 "metadata": {
  "kernelspec": {
   "display_name": "Python 3",
   "language": "python",
   "name": "python3"
  },
  "language_info": {
   "codemirror_mode": {
    "name": "ipython",
    "version": 3
   },
   "file_extension": ".py",
   "mimetype": "text/x-python",
   "name": "python",
   "nbconvert_exporter": "python",
   "pygments_lexer": "ipython3",
   "version": "3.6.3"
  }
 },
 "nbformat": 4,
 "nbformat_minor": 2
}
