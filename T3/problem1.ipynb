{
 "cells": [
  {
   "cell_type": "code",
   "execution_count": 21,
   "metadata": {},
   "outputs": [
    {
     "data": {
      "text/plain": [
       "<matplotlib.lines.Line2D at 0x7f4b951cd2e8>"
      ]
     },
     "execution_count": 21,
     "metadata": {},
     "output_type": "execute_result"
    },
    {
     "data": {
      "image/png": "[encoded data removed]",
      "text/plain": [
       "<Figure size 432x288 with 1 Axes>"
      ]
     },
     "metadata": {},
     "output_type": "display_data"
    }
   ],
   "source": [
    "import numpy as np\n",
    "import matplotlib.pyplot as plt\n",
    "\n",
    "X = np.array([-3,-2,-1,0,1,2,3])\n",
    "y = np.array([1,1,-1,-1,-1,1,1])\n",
    "\n",
    "Xpos = np.array([-3,-2,2,3])\n",
    "Xneg = np.array([-1,0,1])\n",
    "\n",
    "plt.plot()\n",
    "plt.scatter(Xpos, Xpos**2, marker='o')\n",
    "plt.scatter(Xneg, Xneg**2, marker='x')\n",
    "#plt.plot(range(self.iters), losses)\n",
    "\n",
    "#plt.xlabel('Iterations')\n",
    "#plt.ylabel('Losses')\n",
    "#astring = \"Problem 3 - Logistic Regression, with eta= %0.2f and lambda=%0.6f\" % (self.eta,self.lambda_parameter)\n",
    "#plt.title(astring)\n",
    "plt.xlim(-10,10)\n",
    "plt.ylim(-10,10)\n",
    "plt.draw()\n",
    "\n",
    "\n",
    "plt.axhline(0, color='gray')\n",
    "plt.axvline(0, color='gray')\n",
    "\n",
    "#plt.pause(1) # <-------\n",
    "#raw_input(\"<Hit Enter To Close>\")\n",
    "#'''\n",
    "\n"
   ]
  }
 ],
 "metadata": {
  "kernelspec": {
   "display_name": "Python 3",
   "language": "python",
   "name": "python3"
  },
  "language_info": {
   "codemirror_mode": {
    "name": "ipython",
    "version": 3
   },
   "file_extension": ".py",
   "mimetype": "text/x-python",
   "name": "python",
   "nbconvert_exporter": "python",
   "pygments_lexer": "ipython3",
   "version": "3.6.3"
  }
 },
 "nbformat": 4,
 "nbformat_minor": 2
}
